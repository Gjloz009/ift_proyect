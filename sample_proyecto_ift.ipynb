{
 "cells": [
  {
   "cell_type": "code",
   "execution_count": 1,
   "id": "43c205ba-6223-440e-817d-edacdae61e18",
   "metadata": {},
   "outputs": [],
   "source": [
    "# moduos\n",
    "import polars as pl"
   ]
  },
  {
   "cell_type": "code",
   "execution_count": null,
   "id": "4695e495-0623-4e6e-b7c9-a4393b51a972",
   "metadata": {},
   "outputs": [],
   "source": [
    "from typing import List\n",
    "# Funciones\n",
    "\n",
    "def get_encoding(filename_in: str, filename_out:str) -> None:\n",
    "    import chardet\n",
    "\n",
    "    with open(filename_in, 'rb') as f:\n",
    "        raw_data = f.read()\n",
    "        result = chardet.detect(raw_data)\n",
    "        encoding = result['encoding']\n",
    "\n",
    "        try:\n",
    "            decoded_data = raw_data.decode(encoding=encoding)\n",
    "        except UnicodeDecodeError:\n",
    "            # Si falla, intenta con una lista de codificaciones comunes\n",
    "            common_encodings = ['utf-8', 'iso-8859-1', 'cp1252']\n",
    "            for enc in common_encodings:\n",
    "                try:\n",
    "                    decoded_data = raw_data.decode(encoding=enc)\n",
    "                    break\n",
    "                except UnicodeDecodeError:\n",
    "                    continue\n",
    "            else:\n",
    "                raise UnicodeDecodeError(f\"No se pudo decodificar el archivo con las codificaciones probadas. Último intento fallido con {encoding}\")\n",
    "\n",
    "    with open(filename_out, 'w', encoding='utf-8') as f2:\n",
    "        f2.write(decoded_data)\n",
    "\n",
    "def tweak_df(df: pl.DataFrame, columns_trans: list, schema: dict) -> pl.DataFrame:\n",
    "  # aplicación de funciones para el df\n",
    "  # acepta lista de expresiones\n",
    "  return df.with_columns(columns_trans).cast(schema)\n",
    "\n",
    "def transformations(file_name: str,tweak_list: list,schema_dict: dict) -> pl.DataFrame:\n",
    "  # decodificando\n",
    "  get_encoding(f\"{file_name}.csv\",f\"{file_name}_decoded.csv\")\n",
    "  # leyendo el archivo\n",
    "  df = pl.read_csv(f\"{file_name}_decoded.csv\")\n",
    "  # aplicando los cambios al df\n",
    "  return tweak_df(df,tweak_list,schema_dict)"
   ]
  },
  {
   "cell_type": "markdown",
   "id": "45b093d0-3c68-4e3f-9b53-21628a32c0f7",
   "metadata": {},
   "source": [
    "Nos metimos al IFT (instituto federal de telecomunicaciones) en especial a la sección de servicios móvil de acceso a internet, para delimitar\n",
    "\n",
    "Subsecciones:\n",
    "  - Lineas (Ya)\n",
    "  - Lineas (Serie hitórica desde 2010) (Ya)\n",
    "  - Tráfico de datos (TB) (Ya)\n",
    "  - Índice de concentración (IHH) (Ya)\n",
    "  - Participación de mercado (Serie desde 2010) (Ya)\n",
    "  - Líneas por cada 100  habitantes (Estatal) (No)\n",
    "  -Líneas por cada 100 habitantes (Serie historica desde 2010) (No)"
   ]
  },
  {
   "cell_type": "markdown",
   "id": "6247ffcf-b707-4bdc-a3e0-019cbe0bc167",
   "metadata": {},
   "source": [
    "## LINEAS\n",
    "Tabla de información de las líneas de servicio móvil de acceso a internet por esquema de pago (prepago y pospago), serie mensual desde el 2013.\n",
    "\n",
    "[diccionario de datos](https://docs.google.com/spreadsheets/d/176qSChhhpF43hzslsFscsAcBblJ0Wa_cyBHnzWTq1Eg/edit?gid=0#gid=0)\n",
    "\n",
    "### To do:\n",
    "- eda\n",
    "- encontrar los valores distintos\n",
    "\n",
    "### Done:\n",
    "- Ir de acuerdo al esquema en el diccionario de datos\n",
    "\n"
   ]
  },
  {
   "cell_type": "code",
   "execution_count": null,
   "id": "87524409-f380-42de-866d-913c48dfd27d",
   "metadata": {},
   "outputs": [],
   "source": [
    "#Primero vamos a ver lineas\n",
    "#nos falta un catálogo de datos\n",
    "!wget https://bit.ift.org.mx/descargas/datos/tabs/TD_LINEAS_INTMOVIL_ITE_VA.csv"
   ]
  },
  {
   "cell_type": "code",
   "execution_count": null,
   "id": "1547cc00-6bcc-46d0-a0e5-02848c5cfa1b",
   "metadata": {},
   "outputs": [],
   "source": [
    "# creación de esquema de acuera al diccionario de datos\n",
    "schema_lineas = {\n",
    "    \"FECHA\": pl.Date,\n",
    "    \"ANIO\": pl.Int16,\n",
    "    \"MES\": pl.Int8,\n",
    "    # \"K_GRUPO\": pl.Categorical,\n",
    "    \"GRUPO\": pl.Categorical,\n",
    "    \"K_EMPRESA\": pl.Categorical,\n",
    "    \"EMPRESA\": pl.Categorical,\n",
    "    \"CONCESIONARIO\": pl.Categorical,\n",
    "    \"L_PREPAGO_E\": pl.Int32,\n",
    "    \"L_POSPAGO_E\": pl.Int32,\n",
    "    \"L_POSPAGOC_E\": pl.Int32,\n",
    "    \"L_POSPAGOL_E\": pl.Int32,\n",
    "    \"L_NO_ESPECIFICADO_E\": pl.Int32,\n",
    "    \"L_TOTAL_E\": pl.Int32,\n",
    "    \"FOLIO\": pl.Categorical\n",
    "  }\n",
    "\n",
    "tweak_columns = [\n",
    "    pl.col( \"L_PREPAGO_E\" ).str.replace_all(\",\",\"\").str.to_integer(base=10),\n",
    "    pl.col( \"L_POSPAGO_E\" ).str.replace_all(\",\",\"\").str.to_integer(base=10),\n",
    "    pl.col( \"L_POSPAGOC_E\" ).str.replace_all(\",\",\"\").str.to_integer(base=10),\n",
    "    pl.col( \"L_POSPAGOL_E\" ).str.replace_all(\",\",\"\").str.to_integer(base=10),\n",
    "    pl.col( \"L_NO_ESPECIFICADO_E\" ).str.replace_all(\",\",\"\").str.to_integer(base=10),\n",
    "    pl.col( \"L_TOTAL_E\" ).str.replace_all(\",\",\"\").str.to_integer(base=10),\n",
    "    pl.col(\"FECHA\").str.to_date(\"%d%b%Y\"),\n",
    "    pl.col(\"FOLIO\").cast(pl.Utf8)\n",
    "  ]"
   ]
  },
  {
   "cell_type": "code",
   "execution_count": null,
   "id": "c3cd6d63-bfbd-4f8a-aec7-8348812f0137",
   "metadata": {},
   "outputs": [],
   "source": [
    "df_lineas = transformations(\"TD_LINEAS_INTMOVIL_ITE_VA\",tweak_columns,schema_lineas)"
   ]
  },
  {
   "cell_type": "code",
   "execution_count": null,
   "id": "1448302f-fcbe-4e1b-8b36-30531120dc27",
   "metadata": {},
   "outputs": [],
   "source": []
  },
  {
   "cell_type": "code",
   "execution_count": null,
   "id": "eca3d112-f685-45a2-bae9-cf6b072d25e0",
   "metadata": {},
   "outputs": [],
   "source": []
  },
  {
   "cell_type": "code",
   "execution_count": null,
   "id": "1b8da9ff-f208-4c06-88fe-e7a5035cd09e",
   "metadata": {},
   "outputs": [],
   "source": []
  }
 ],
 "metadata": {
  "kernelspec": {
   "display_name": "Python 3 (ipykernel)",
   "language": "python",
   "name": "python3"
  },
  "language_info": {
   "codemirror_mode": {
    "name": "ipython",
    "version": 3
   },
   "file_extension": ".py",
   "mimetype": "text/x-python",
   "name": "python",
   "nbconvert_exporter": "python",
   "pygments_lexer": "ipython3",
   "version": "3.12.3"
  }
 },
 "nbformat": 4,
 "nbformat_minor": 5
}
